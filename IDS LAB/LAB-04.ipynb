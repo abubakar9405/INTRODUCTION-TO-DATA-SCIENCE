{
 "cells": [
  {
   "cell_type": "code",
   "execution_count": null,
   "metadata": {},
   "outputs": [],
   "source": [
    "#TASK-01\n",
    "import numpy as np\n",
    "a=np.array([[1,2,3] ,[4,5,6], [7,8,0]])\n",
    "a=np.sort(a)\n",
    "a=a.flatten()\n",
    "a=np.sort(a)\n",
    "a=a.reshape(3,3)\n",
    "a[a>5]=a[a>5]**2\n",
    "print(\"array after squaring values >5\")\n",
    "print(a)"
   ]
  },
  {
   "cell_type": "code",
   "execution_count": null,
   "metadata": {},
   "outputs": [],
   "source": [
    "#TASK-02\n",
    "import numpy as np\n",
    "a=np.array([1,2,3,4,5])\n",
    "print(a)\n",
    "#INCOMPLETE\n",
    "#print(a) final result..."
   ]
  },
  {
   "cell_type": "code",
   "execution_count": null,
   "metadata": {},
   "outputs": [],
   "source": [
    "#TASK-03\n",
    "import numpy as np\n",
    "a=np.linspace(5,50,10)\n",
    "a=a.astype(int)\n",
    "print(a)\n",
    "sum=a.sum()\n",
    "print(\"sum of array is\",sum)"
   ]
  },
  {
   "cell_type": "code",
   "execution_count": null,
   "metadata": {},
   "outputs": [],
   "source": [
    "#TASK-04\n",
    "import pandas as pd\n",
    "df=pd.DataFrame({\"scores\":[70,75,80,100,78,82,89,54]})\n",
    "df[\"GRADES\"]=[\"A\" if x>=80 else \"B\" for x in df[\"scores\"]]\n",
    "print(df)"
   ]
  },
  {
   "cell_type": "code",
   "execution_count": null,
   "metadata": {},
   "outputs": [],
   "source": [
    "#TASK-05:\n",
    "df[(df['scores'] > 70) & (df['scores'] < 90)]['scores']"
   ]
  }
 ],
 "metadata": {
  "kernelspec": {
   "display_name": "Python 3",
   "language": "python",
   "name": "python3"
  },
  "language_info": {
   "codemirror_mode": {
    "name": "ipython",
    "version": 3
   },
   "file_extension": ".py",
   "mimetype": "text/x-python",
   "name": "python",
   "nbconvert_exporter": "python",
   "pygments_lexer": "ipython3",
   "version": "3.8.2"
  }
 },
 "nbformat": 4,
 "nbformat_minor": 2
}
