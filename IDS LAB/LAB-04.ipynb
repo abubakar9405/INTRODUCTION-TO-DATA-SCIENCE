{
 "cells": [
  {
   "cell_type": "code",
   "execution_count": 2,
   "metadata": {},
   "outputs": [
    {
     "name": "stdout",
     "output_type": "stream",
     "text": [
      "array after squaring values >5\n",
      "[[ 0  1  2]\n",
      " [ 3  4  5]\n",
      " [36 49 64]]\n"
     ]
    }
   ],
   "source": [
    "#TASK-01\n",
    "import numpy as np\n",
    "a=np.array([[1,2,3] ,[4,5,6], [7,8,0]])\n",
    "a=np.sort(a)\n",
    "a=a.flatten()\n",
    "a=np.sort(a)\n",
    "a=a.reshape(3,3)\n",
    "a[a>5]=a[a>5]**2\n",
    "print(\"array after squaring values >5\")\n",
    "print(a)"
   ]
  },
  {
   "cell_type": "code",
   "execution_count": 2,
   "metadata": {},
   "outputs": [
    {
     "name": "stdout",
     "output_type": "stream",
     "text": [
      "[1 2 3 4 5]\n"
     ]
    }
   ],
   "source": [
    "#TASK-02\n",
    "import numpy as np\n",
    "a=np.array([1,2,3,4,5])\n",
    "print(a)\n",
    "#INCOMPLETE\n",
    "#print(a) final result..."
   ]
  },
  {
   "cell_type": "code",
   "execution_count": 3,
   "metadata": {},
   "outputs": [
    {
     "name": "stdout",
     "output_type": "stream",
     "text": [
      "[ 5 10 15 20 25 30 35 40 45 50]\n",
      "sum of array is 275\n"
     ]
    }
   ],
   "source": [
    "#TASK-03\n",
    "import numpy as np\n",
    "a=np.linspace(5,50,10)\n",
    "a=a.astype(int)\n",
    "print(a)\n",
    "sum=a.sum()\n",
    "print(\"sum of array is\",sum)"
   ]
  },
  {
   "cell_type": "code",
   "execution_count": 4,
   "metadata": {},
   "outputs": [
    {
     "name": "stdout",
     "output_type": "stream",
     "text": [
      "   scores GRADES\n",
      "0      70      B\n",
      "1      75      B\n",
      "2      80      A\n",
      "3     100      A\n",
      "4      78      B\n",
      "5      82      A\n",
      "6      89      A\n",
      "7      54      B\n"
     ]
    }
   ],
   "source": [
    "#TASK-04\n",
    "import pandas as pd\n",
    "df=pd.DataFrame({\"scores\":[70,75,80,100,78,82,89,54]})\n",
    "df[\"GRADES\"]=[\"A\" if x>=80 else \"B\" for x in df[\"scores\"]]\n",
    "print(df)"
   ]
  },
  {
   "cell_type": "code",
   "execution_count": null,
   "metadata": {},
   "outputs": [],
   "source": [
    "#TASK-05:\n",
    "df[(df['scores'] > 70) & (df['scores'] < 90)]['scores']"
   ]
  },
  {
   "cell_type": "code",
   "execution_count": null,
   "metadata": {},
   "outputs": [],
   "source": [
    "#TASK-06\n",
    "import pandas as pd\n",
    "data = {\n",
    "    'Name': ['Alice', 'Bob', 'Charlie', 'David', 'Eve'],\n",
    "    'Grade': ['A', 'B', 'A', 'C', 'B'],\n",
    "    'Score': [85, 90, 88, 76, 95]\n",
    "}\n",
    "df = pd.DataFrame(data)\n",
    "grouped = df.groupby('Grade')['Score'].mean().reset_index()\n",
    "grouped.to_csv('grouped_scores.csv', index=False)\n",
    "print(grouped)\n"
   ]
  },
  {
   "cell_type": "code",
   "execution_count": null,
   "metadata": {},
   "outputs": [],
   "source": [
    "#TASK-07\n",
    "df=pd.DataFrame([1,None ,3,4,5,7,None,None,12,32],columns=[\"scores\"])\n",
    "mean=df[\"scores\"].mean()\n",
    "print(df)\n",
    "df[\"scores\"]=df[\"scores\"].fillna(mean)\n",
    "print(df)\n"
   ]
  },
  {
   "cell_type": "code",
   "execution_count": 1,
   "metadata": {},
   "outputs": [
    {
     "name": "stdout",
     "output_type": "stream",
     "text": [
      "    Name  Age  Salary\n",
      "0  Alice   24   50000\n",
      "1    Bob   27   60000\n",
      "2  David   32   62000\n"
     ]
    }
   ],
   "source": [
    "#TASK-08\n",
    "import pandas as pd\n",
    "df1 = pd.DataFrame({\n",
    "    'Name': ['Alice', 'Bob', 'Charlie', 'David'],\n",
    "    'Age': [24, 27, 22, 32]\n",
    "})\n",
    "\n",
    "df2 = pd.DataFrame({\n",
    "    'Name': ['Alice', 'Bob', 'Eve', 'David'],\n",
    "    'Salary': [50000, 60000, 52000, 62000]\n",
    "})\n",
    "\n",
    "# Merging the DataFrames on the 'Name' column\n",
    "result = pd.merge(df1, df2, on='Name')\n",
    "\n",
    "# Display the merged DataFrame\n",
    "print(result)"
   ]
  }
 ],
 "metadata": {
  "kernelspec": {
   "display_name": "Python 3",
   "language": "python",
   "name": "python3"
  },
  "language_info": {
   "codemirror_mode": {
    "name": "ipython",
    "version": 3
   },
   "file_extension": ".py",
   "mimetype": "text/x-python",
   "name": "python",
   "nbconvert_exporter": "python",
   "pygments_lexer": "ipython3",
   "version": "3.8.2"
  }
 },
 "nbformat": 4,
 "nbformat_minor": 2
}
