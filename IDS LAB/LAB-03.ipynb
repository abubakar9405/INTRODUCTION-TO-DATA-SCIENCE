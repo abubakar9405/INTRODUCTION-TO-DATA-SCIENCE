{
  "nbformat": 4,
  "nbformat_minor": 0,
  "metadata": {
    "colab": {
      "provenance": []
    },
    "kernelspec": {
      "name": "python3",
      "display_name": "Python 3"
    },
    "language_info": {
      "name": "python"
    }
  },
  "cells": [
    {
      "cell_type": "code",
      "execution_count": 22,
      "metadata": {
        "colab": {
          "base_uri": "https://localhost:8080/"
        },
        "id": "TSLNZvpZWekg",
        "outputId": "0b2753c5-b418-48d4-dec8-38874bcf9532"
      },
      "outputs": [
        {
          "output_type": "stream",
          "name": "stdout",
          "text": [
            "select 1 option\n",
            "1: addition\n",
            "2: subtraction\n",
            "3: multiplication\n",
            "4:division\n",
            "select from the following1\n",
            "enter your first number 100\n",
            "enter your second number102\n",
            "202\n"
          ]
        }
      ],
      "source": [
        "#TASK-01(EXCEPTIONAL HANDLING)\n",
        "def add(a,b):\n",
        "    return a+b\n",
        "def sub(a,b):\n",
        "  return a-b\n",
        "def product(a,b):\n",
        "  return a*b\n",
        "def div(a,b):\n",
        " try:\n",
        "   print(a/b)\n",
        " except ZeroDivisionError as e :\n",
        "   print(\"dividend cannot be zero\")\n",
        " finally:\n",
        "  print(\"finally will run in every case\")\n",
        "\n",
        "print(\"select 1 option\")\n",
        "print(\"1: addition\")\n",
        "print(\"2: subtraction\")\n",
        "print(\"3: multiplication\")\n",
        "print(\"4:division\")\n",
        "a=int(input(\"select from the following\"))\n",
        "v1=int(input(\"enter your first number \"))\n",
        "v2=int(input(\"enter your second number\"))\n",
        "if(a==1):\n",
        " print(add(v1,v2))\n",
        "if(a==2):\n",
        " print(sub(v1,v2))\n",
        "if(a==3):\n",
        " print(product(v1,v2))\n",
        "if(a==4):\n",
        " print(div(v1,v2))\n",
        "\n"
      ]
    },
    {
      "cell_type": "code",
      "source": [
        "#TASK-04(rectangle class to calculate area)\n",
        "class Rectangle:\n",
        "    \"\"\"This class will calculate the area of its object which is a rectangle\"\"\"\n",
        "    def __init__(self, length, width):\n",
        "        self.length = length\n",
        "        self.width = width\n",
        "    def area(self):\n",
        "        return self.length * self.width\n",
        "a=int(input(\"enter your length\"))\n",
        "b=int(input(\"enter your width\"))\n",
        "# Create an instance of the Rectangle class\n",
        "\n",
        "AREA = Rectangle(a, b)\n",
        "print(AREA.area())"
      ],
      "metadata": {
        "colab": {
          "base_uri": "https://localhost:8080/"
        },
        "id": "aUX5Pvu6jp9-",
        "outputId": "35702a5b-9bdd-4fca-f6ce-4b83567e0a60"
      },
      "execution_count": 36,
      "outputs": [
        {
          "output_type": "stream",
          "name": "stdout",
          "text": [
            "enter your length5\n",
            "enter your width5\n",
            "25\n"
          ]
        }
      ]
    },
    {
      "cell_type": "code",
      "source": [
        "#TASK-03 MAKING A TXT FILE\n",
        "%%writefile  submission.txt\n",
        "1\n",
        "2\n",
        "3\n",
        "4\n",
        "5\n",
        "6\n",
        "7\n",
        "8\n",
        "9\n",
        "10\n"
      ],
      "metadata": {
        "colab": {
          "base_uri": "https://localhost:8080/"
        },
        "id": "rLnHj_7noJeB",
        "outputId": "153f2023-6095-454b-9f94-012aee74b819"
      },
      "execution_count": 35,
      "outputs": [
        {
          "output_type": "stream",
          "name": "stdout",
          "text": [
            "Overwriting submission.txt\n"
          ]
        }
      ]
    },
    {
      "cell_type": "code",
      "source": [
        "#CONTINUITY OF TASK-03:\n",
        "try:\n",
        "    with open(\"submission.txt\", \"r\") as submission:\n",
        "        score = submission.read()  # Read all file in case values are not on a single line\n",
        "        submission_sum = [int(x) for x in score.split() if x.isdigit()]  # Convert strings to ints, ignore non-numeric values\n",
        "        print(sum(submission_sum))  # sum all elements of the list\n",
        "except FileNotFoundError:\n",
        "    print(\"Error: The file 'submission.txt' does not exist.\")\n",
        "except Exception as e:\n",
        "    print(f\"An error occurred: {e}\")"
      ],
      "metadata": {
        "colab": {
          "base_uri": "https://localhost:8080/"
        },
        "id": "MAboJvBGq9dq",
        "outputId": "29d9e124-d592-4162-ad3f-d8ab3eb164e8"
      },
      "execution_count": 41,
      "outputs": [
        {
          "output_type": "stream",
          "name": "stdout",
          "text": [
            "55\n"
          ]
        }
      ]
    },
    {
      "cell_type": "code",
      "source": [
        "#TASK-02:\n",
        "%%writefile reverse.txt\n",
        "my name is Abubakar\n"
      ],
      "metadata": {
        "colab": {
          "base_uri": "https://localhost:8080/"
        },
        "id": "iiyPwUret5x5",
        "outputId": "e8339f41-5c6f-451c-d088-0265b78e47c5"
      },
      "execution_count": 58,
      "outputs": [
        {
          "output_type": "stream",
          "name": "stdout",
          "text": [
            "Overwriting reverse.txt\n"
          ]
        }
      ]
    },
    {
      "cell_type": "code",
      "source": [
        "#CONTINUITY OF TASK-02\n",
        "%%writefile result_reverse.txt\n"
      ],
      "metadata": {
        "colab": {
          "base_uri": "https://localhost:8080/"
        },
        "id": "84kl0mOMuGB8",
        "outputId": "26493f34-1a3e-4e9c-ba54-6abad08d396a"
      },
      "execution_count": 59,
      "outputs": [
        {
          "output_type": "stream",
          "name": "stdout",
          "text": [
            "Overwriting result_reverse.txt\n"
          ]
        }
      ]
    },
    {
      "cell_type": "code",
      "source": [
        "#CONTINUITY OF TASK-02\n",
        "file=open('reverse.txt','r+')\n",
        "content=file.read()\n",
        "reversed_content = content[::-1]#using slicing to separate content as string\n",
        "print(reversed_content)\n",
        "file1 = open('result_reverse.txt','a')\n",
        "file1.write(reversed_content)\n",
        "\n",
        "\n",
        "\n",
        "\n",
        "\n",
        "\n",
        "\n",
        "\n"
      ],
      "metadata": {
        "colab": {
          "base_uri": "https://localhost:8080/"
        },
        "id": "k03EFr67uaGY",
        "outputId": "1b6ef693-0100-4f64-9050-1b19d03105df"
      },
      "execution_count": 62,
      "outputs": [
        {
          "output_type": "stream",
          "name": "stdout",
          "text": [
            "\n",
            "rakabubA si eman ym\n"
          ]
        },
        {
          "output_type": "execute_result",
          "data": {
            "text/plain": [
              "20"
            ]
          },
          "metadata": {},
          "execution_count": 62
        }
      ]
    }
  ]
}