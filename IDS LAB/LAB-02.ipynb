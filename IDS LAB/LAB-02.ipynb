{
  "nbformat": 4,
  "nbformat_minor": 0,
  "metadata": {
    "colab": {
      "provenance": []
    },
    "kernelspec": {
      "name": "python3",
      "display_name": "Python 3"
    },
    "language_info": {
      "name": "python"
    }
  },
  "cells": [
    {
      "cell_type": "code",
      "execution_count": 21,
      "metadata": {
        "colab": {
          "base_uri": "https://localhost:8080/"
        },
        "id": "tq5AiICwOEuS",
        "outputId": "3ea8208e-e240-42b4-8c10-8543e814e256"
      },
      "outputs": [
        {
          "output_type": "stream",
          "name": "stdout",
          "text": [
            "Enter the word: moti\n",
            "NOT FOUND\n"
          ]
        }
      ],
      "source": [
        "fruits = [\"apple\", \"banana\", \"mango\", \"kiwi\"]\n",
        "a = input(\"Enter the word: \")\n",
        "\n",
        "if a in fruits:\n",
        "    print(\"FOUND\")\n",
        "else:\n",
        "    print(\"NOT FOUND\")\n"
      ]
    },
    {
      "cell_type": "code",
      "source": [
        "#creating dictionary\n",
        "dictionary={\n",
        "     1:\"a\",\n",
        "     2:\"b\",\n",
        "     3:\"c\"\n",
        "}\n",
        "swapped_dict={}\n",
        "for key, value in dictionary.items():\n",
        "   swapped_dict[value]=key\n",
        "\n",
        "\n",
        "print(\"orignal dictionary\",dictionary)\n",
        "print(\"swapped dictionary:\",swapped_dict)\n",
        "\n",
        "\n"
      ],
      "metadata": {
        "colab": {
          "base_uri": "https://localhost:8080/"
        },
        "id": "Gjdfxh_uVo2x",
        "outputId": "a85cf7a3-0264-4919-dd4a-3a7387217643"
      },
      "execution_count": 25,
      "outputs": [
        {
          "output_type": "stream",
          "name": "stdout",
          "text": [
            "orignal dictionary {1: 'a', 2: 'b', 3: 'c'}\n",
            "swapped dictionary: {'a': 1, 'b': 2, 'c': 3}\n"
          ]
        }
      ]
    },
    {
      "cell_type": "code",
      "source": [
        "a=int(input(\"enter a number\"))\n",
        "i=1\n",
        "#using for loop\n",
        "for i in range(1,11):\n",
        "  print(a,\"X\",i,\"=\",a*i)\n",
        "#using while loop\n",
        "# while i!=11:\n",
        "#    print(a,\"X\",i,\"=\",a*i)\n",
        "#    i=i+1"
      ],
      "metadata": {
        "colab": {
          "base_uri": "https://localhost:8080/"
        },
        "id": "vr6Y3SiyZDVI",
        "outputId": "cdadf2ca-d2a7-4ea7-c6fc-b60235297adb"
      },
      "execution_count": 34,
      "outputs": [
        {
          "output_type": "stream",
          "name": "stdout",
          "text": [
            "enter a number3\n",
            "3 X 1 = 3\n",
            "3 X 2 = 6\n",
            "3 X 3 = 9\n",
            "3 X 4 = 12\n",
            "3 X 5 = 15\n",
            "3 X 6 = 18\n",
            "3 X 7 = 21\n",
            "3 X 8 = 24\n",
            "3 X 9 = 27\n",
            "3 X 10 = 30\n"
          ]
        }
      ]
    },
    {
      "cell_type": "code",
      "source": [
        "person = {'name': 'john', 'age': 26, 'colors': ['blue', 'green', 'blue']}\n",
        "\n",
        "while True:\n",
        "    a = int(input(\"Do you want to increment age? Press 1 to increment, 0 to decrement, -1 to terminate: \"))\n",
        "    if a == -1:\n",
        "        break\n",
        "    elif a == 1:\n",
        "        person['age'] += 1\n",
        "    elif a == 0:\n",
        "        person['age'] -= 1\n",
        "    else:\n",
        "        print(\"NOTHING WAS INCREMENTED NOR DECREMENTED\")\n",
        "\n",
        "b = input(\"Enter person's favorite color: \")\n",
        "person['colors'].append(b)\n",
        "\n",
        "print(person)\n"
      ],
      "metadata": {
        "colab": {
          "base_uri": "https://localhost:8080/"
        },
        "id": "vrUB64zSaxhk",
        "outputId": "52e86f3d-94d9-4f52-8870-4194eaf7c2fb"
      },
      "execution_count": 42,
      "outputs": [
        {
          "output_type": "stream",
          "name": "stdout",
          "text": [
            "Do you want to increment age? Press 1 to increment, 0 to decrement, -1 to terminate: 1\n",
            "Do you want to increment age? Press 1 to increment, 0 to decrement, -1 to terminate: 1\n",
            "Do you want to increment age? Press 1 to increment, 0 to decrement, -1 to terminate: -1\n",
            "Enter person's favorite color: black\n",
            "{'name': 'john', 'age': 28, 'colors': ['blue', 'green', 'blue', 'black']}\n"
          ]
        }
      ]
    },
    {
      "cell_type": "code",
      "source": [
        "\n",
        "res=100\n",
        "while res>1:\n",
        "  num=int(input(\"enter a number to divide :\"))\n",
        "  res=res/num\n",
        "  print(res)\n",
        "\n",
        "print(res,\"is below 1\")\n"
      ],
      "metadata": {
        "colab": {
          "base_uri": "https://localhost:8080/"
        },
        "id": "KT3eqHvcfCfF",
        "outputId": "fa72bd5e-1eb8-4ff7-ab99-118a98d6cda7"
      },
      "execution_count": 49,
      "outputs": [
        {
          "output_type": "stream",
          "name": "stdout",
          "text": [
            "enter a number to divide :50\n",
            "2.0\n",
            "enter a number to divide :10\n",
            "0.2\n",
            "0.2 is below 1\n"
          ]
        }
      ]
    },
    {
      "cell_type": "code",
      "source": [
        "lis=[1,2,3,4,5,6,7,8,9,10,11,12,13,14,15,16,17,18,19,20]\n",
        "lis_even=[]\n",
        "lis_odd=[]\n",
        "a=0\n",
        "for i in range(20):\n",
        "  if lis[i]%2==0:\n",
        "    lis_even.append(lis[i])\n",
        "  else:\n",
        "    lis_odd.append(lis[i])\n",
        "\n",
        "print(\"even numbers list\",lis_even)\n",
        "print(\"odd numbers list\",lis_odd)"
      ],
      "metadata": {
        "colab": {
          "base_uri": "https://localhost:8080/"
        },
        "id": "jFlueT55jmCL",
        "outputId": "116099a4-8a4d-4489-e119-f517cb6a5875"
      },
      "execution_count": 65,
      "outputs": [
        {
          "output_type": "stream",
          "name": "stdout",
          "text": [
            "even numbers list [2, 4, 6, 8, 10, 12, 14, 16, 18, 20]\n",
            "odd numbers list [1, 3, 5, 7, 9, 11, 13, 15, 17, 19]\n"
          ]
        }
      ]
    },
    {
      "cell_type": "code",
      "source": [
        "pop=[{'first name':'john','last name':'doe'},{'first name':'jane','last name':'doe'},{'first name':'john','last name':'doe'}]\n",
        "combined={}\n",
        "for person in pop:\n",
        "  name=person['first name']+' '+person['last name']\n",
        "  if name in combined:\n",
        "    combined[name]+=1\n",
        "  else:\n",
        "    combined[name]=1\n",
        "print(combined)"
      ],
      "metadata": {
        "colab": {
          "base_uri": "https://localhost:8080/"
        },
        "id": "3SVb_Vu-xZoO",
        "outputId": "a664fb84-95ff-4237-80d3-5b9c42076ebe"
      },
      "execution_count": 77,
      "outputs": [
        {
          "output_type": "stream",
          "name": "stdout",
          "text": [
            "{'john doe': 2, 'jane doe': 1}\n"
          ]
        }
      ]
    },
    {
      "cell_type": "code",
      "source": [
        "items = {\n",
        "    'coke': 100,\n",
        "    'sooper': 40,\n",
        "    'gatorade': 130,\n",
        "    'latte': 120\n",
        "}\n",
        "\n",
        "while True:\n",
        "    item_name = input(\"Enter the name of the item (or 'stop' to end): \").lower()\n",
        "    if item_name == 'stop':\n",
        "        break\n",
        "    if item_name in items:\n",
        "        print(f\"The price of {item_name} is {items[item_name]}\")\n",
        "    else:\n",
        "        print(\"Not found\")\n"
      ],
      "metadata": {
        "colab": {
          "base_uri": "https://localhost:8080/"
        },
        "id": "qXk_vEJ8ntRB",
        "outputId": "7f1b11f2-b346-43de-fcb0-b6f8e9276740"
      },
      "execution_count": 72,
      "outputs": [
        {
          "name": "stdout",
          "output_type": "stream",
          "text": [
            "Enter the name of the item (or 'stop' to end): coke\n",
            "The price of coke is 100\n",
            "Enter the name of the item (or 'stop' to end): latte\n",
            "The price of latte is 120\n",
            "Enter the name of the item (or 'stop' to end): stop\n"
          ]
        }
      ]
    },
    {
      "cell_type": "code",
      "source": [
        "cumulative_total = 0\n",
        "\n",
        "while True:\n",
        "    user_input = input(\"Enter a value (or 'exit' to end): \")\n",
        "    if user_input.lower() == 'exit':\n",
        "        break\n",
        "    else:\n",
        "        num = int(user_input)\n",
        "        cumulative_total += num\n",
        "\n",
        "\n",
        "print(f\"The cumulative total is: {cumulative_total}\")\n",
        "\n",
        "\n",
        "\n",
        "\n",
        "\n"
      ],
      "metadata": {
        "colab": {
          "base_uri": "https://localhost:8080/"
        },
        "id": "cb7oAyDqqxre",
        "outputId": "17d196c4-1059-4654-fc1a-ff725174038e"
      },
      "execution_count": 70,
      "outputs": [
        {
          "output_type": "stream",
          "name": "stdout",
          "text": [
            "Enter a value (or 'exit' to end): 10\n",
            "Enter a value (or 'exit' to end): 20\n",
            "Enter a value (or 'exit' to end): 30\n",
            "Enter a value (or 'exit' to end): 40\n",
            "Enter a value (or 'exit' to end): exit\n",
            "The cumulative total is: 100\n"
          ]
        }
      ]
    },
    {
      "cell_type": "code",
      "source": [
        "activities = {\n",
        "    'monday': ['chai', 'sooper'],\n",
        "    'tuesday': ['coffee', 'wheatable'],\n",
        "    'wednesday': ['loaded_fries', 'arabian wrap'],\n",
        "    'thursday': ['pizza', 'reload bar'],\n",
        "    'friday': ['biryani', 'tikka'],\n",
        "    'saturday': ['pasta', 'ice cream'],\n",
        "    'sunday': ['pancakes', 'smoothie']\n",
        "}\n",
        "day = input(\"Enter a day of the week: \").lower()\n",
        "\n",
        "if day in activities:\n",
        "    print(f\"Activities for {day.capitalize()}: {', '.join(activities[day])}\")\n",
        "else:\n",
        "    print(\"Invalid day\")\n"
      ],
      "metadata": {
        "colab": {
          "base_uri": "https://localhost:8080/"
        },
        "id": "4WIvaIcXuZAB",
        "outputId": "f1a7a8df-c83b-48e3-ca80-e2f677773b0c"
      },
      "execution_count": null,
      "outputs": [
        {
          "name": "stdout",
          "output_type": "stream",
          "text": [
            "Enter a day of the week: friday\n"
          ]
        }
      ]
    }
  ]
}